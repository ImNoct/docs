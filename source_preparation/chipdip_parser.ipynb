{
 "cells": [
  {
   "cell_type": "code",
   "execution_count": 1,
   "metadata": {},
   "outputs": [],
   "source": [
    "import requests\n",
    "from bs4 import BeautifulSoup\n",
    "import time\n",
    "import random\n",
    "import tqdm\n",
    "\n",
    "chipdip_url = 'https://www.chipdip.ru'\n",
    "\n",
    "group_url = 'https://www.chipdip.ru/catalog/capacitors-lead'\n",
    "\n",
    "page_str = '?page='\n",
    "\n",
    "headers = requests.utils.default_headers()\n",
    "\n",
    "headers.update(\n",
    "    {\n",
    "        'User-Agent': 'My User Agent 1.0',\n",
    "    }\n",
    ")"
   ]
  },
  {
   "cell_type": "code",
   "execution_count": 2,
   "metadata": {},
   "outputs": [
    {
     "data": {
      "text/plain": [
       "{'Резисторы маломощные (до 2 Вт)': 'https://www.chipdip.ru/catalog/rezistory',\n",
       " 'Резисторы мощные (более 2 Вт)': 'https://www.chipdip.ru/catalog/resistors-2w',\n",
       " 'Чип резисторы (SMD, для поверхностного монтажа)': 'https://www.chipdip.ru/catalog/smd-resistors',\n",
       " 'Резисторы переменные': 'https://www.chipdip.ru/catalog-show/potentiometers',\n",
       " 'Резисторы подстроечные': 'https://www.chipdip.ru/catalog-show/trimmer-potentiometers',\n",
       " 'Резисторные сборки': 'https://www.chipdip.ru/catalog/resistor-networks',\n",
       " 'Наборы резисторов': 'https://www.chipdip.ru/catalog-show/resistor-sets'}"
      ]
     },
     "execution_count": 2,
     "metadata": {},
     "output_type": "execute_result"
    }
   ],
   "source": [
    "# Получить список разделов конденсаторов\n",
    "capasitors_sections_links = {}\n",
    "\n",
    "capasitors_url = 'https://www.chipdip.ru/catalog/resistors'\n",
    "\n",
    "response = requests.get(capasitors_url , headers=headers)\n",
    "\n",
    "soup = BeautifulSoup(response.content, \"html.parser\")\n",
    "\n",
    "job_elements = soup.find_all(\"div\", class_=\"no-visited clear catalog\")\n",
    "\n",
    "for job_element in job_elements:\n",
    "\n",
    "    links = job_element.find_all(\"a\", class_=\"link\")\n",
    "\n",
    "    for link in links:\n",
    "        capasitors_sections_links[link.text.strip()] = chipdip_url + link['href']\n",
    "\n",
    "capasitors_sections_links"
   ]
  },
  {
   "cell_type": "code",
   "execution_count": 3,
   "metadata": {},
   "outputs": [],
   "source": [
    "# Получить список ссылок на отдельные элементы по страницам с элементами\n",
    "def extract_links(responses):\n",
    "    element_links = []\n",
    "\n",
    "    for response in responses:\n",
    "        soup = BeautifulSoup(response.content, \"html.parser\")\n",
    "\n",
    "        job_elements = soup.find_all(\"td\", class_=\"h_name\")\n",
    "\n",
    "        for job_element in job_elements[:20]:\n",
    "            links = job_element.find_all(\"a\", class_=\"link\")\n",
    "\n",
    "            for link in links:\n",
    "                element_links.append(chipdip_url + link['href'])\n",
    "\n",
    "    return element_links"
   ]
  },
  {
   "cell_type": "code",
   "execution_count": 5,
   "metadata": {},
   "outputs": [],
   "source": [
    "# Получить все страницы в разделе\n",
    "def get_pages(section, group_url, out_path):\n",
    "    responses = []\n",
    "\n",
    "    page = 1\n",
    "    while True:\n",
    "        url = group_url + page_str + str(page)\n",
    "        response = requests.get(url , headers=headers)\n",
    "\n",
    "        if 'Страница не найдена' in response.text:\n",
    "            break\n",
    "\n",
    "        responses.append(response)\n",
    "\n",
    "        links = extract_links([response])\n",
    "\n",
    "        with open(out_path, 'a') as outfile:\n",
    "            for l in links:\n",
    "                outfile.write(section + ',\"' + l + '\"\\n')\n",
    "\n",
    "        page += 1\n",
    "\n",
    "        time.sleep(random.randrange(3, 10))\n",
    "\n",
    "    # return responses"
   ]
  },
  {
   "cell_type": "code",
   "execution_count": 18,
   "metadata": {},
   "outputs": [],
   "source": [
    "get_pages('Конденсаторы силовые', capasitors_sections_links['Конденсаторы силовые'].replace('-show', ''))"
   ]
  },
  {
   "cell_type": "code",
   "execution_count": 7,
   "metadata": {},
   "outputs": [
    {
     "name": "stdout",
     "output_type": "stream",
     "text": [
      "Конденсаторы силовые\n",
      "Наборы конденсаторов\n",
      "Конденсаторы для светотехники\n"
     ]
    }
   ],
   "source": [
    "for name, link in capasitors_sections_links.items():\n",
    "    if 'catalog-show' in link:\n",
    "        print(name)"
   ]
  },
  {
   "cell_type": "code",
   "execution_count": 6,
   "metadata": {},
   "outputs": [],
   "source": [
    "for section, link in capasitors_sections_links.items():\n",
    "    get_pages(section, link.replace('-show', ''), 'resistor_links.csv')"
   ]
  },
  {
   "cell_type": "code",
   "execution_count": 11,
   "metadata": {},
   "outputs": [
    {
     "data": {
      "text/html": [
       "<div>\n",
       "<style scoped>\n",
       "    .dataframe tbody tr th:only-of-type {\n",
       "        vertical-align: middle;\n",
       "    }\n",
       "\n",
       "    .dataframe tbody tr th {\n",
       "        vertical-align: top;\n",
       "    }\n",
       "\n",
       "    .dataframe thead th {\n",
       "        text-align: right;\n",
       "    }\n",
       "</style>\n",
       "<table border=\"1\" class=\"dataframe\">\n",
       "  <thead>\n",
       "    <tr style=\"text-align: right;\">\n",
       "      <th></th>\n",
       "      <th>section_name</th>\n",
       "      <th>link</th>\n",
       "    </tr>\n",
       "  </thead>\n",
       "  <tbody>\n",
       "    <tr>\n",
       "      <th>0</th>\n",
       "      <td>Резисторы маломощные (до 2 Вт)</td>\n",
       "      <td>https://www.chipdip.ru/product0/11677</td>\n",
       "    </tr>\n",
       "    <tr>\n",
       "      <th>1</th>\n",
       "      <td>Резисторы маломощные (до 2 Вт)</td>\n",
       "      <td>https://www.chipdip.ru/product0/28651</td>\n",
       "    </tr>\n",
       "    <tr>\n",
       "      <th>2</th>\n",
       "      <td>Резисторы маломощные (до 2 Вт)</td>\n",
       "      <td>https://www.chipdip.ru/product0/6699</td>\n",
       "    </tr>\n",
       "    <tr>\n",
       "      <th>3</th>\n",
       "      <td>Резисторы маломощные (до 2 Вт)</td>\n",
       "      <td>https://www.chipdip.ru/product0/35686</td>\n",
       "    </tr>\n",
       "    <tr>\n",
       "      <th>4</th>\n",
       "      <td>Резисторы маломощные (до 2 Вт)</td>\n",
       "      <td>https://www.chipdip.ru/product0/20427</td>\n",
       "    </tr>\n",
       "    <tr>\n",
       "      <th>...</th>\n",
       "      <td>...</td>\n",
       "      <td>...</td>\n",
       "    </tr>\n",
       "    <tr>\n",
       "      <th>6242</th>\n",
       "      <td>Наборы резисторов</td>\n",
       "      <td>https://www.chipdip.ru/product0/8006877722</td>\n",
       "    </tr>\n",
       "    <tr>\n",
       "      <th>6243</th>\n",
       "      <td>Наборы резисторов</td>\n",
       "      <td>https://www.chipdip.ru/product0/8006881104</td>\n",
       "    </tr>\n",
       "    <tr>\n",
       "      <th>6244</th>\n",
       "      <td>Наборы резисторов</td>\n",
       "      <td>https://www.chipdip.ru/product0/8005160449</td>\n",
       "    </tr>\n",
       "    <tr>\n",
       "      <th>6245</th>\n",
       "      <td>Наборы резисторов</td>\n",
       "      <td>https://www.chipdip.ru/product0/8006909964</td>\n",
       "    </tr>\n",
       "    <tr>\n",
       "      <th>6246</th>\n",
       "      <td>Наборы резисторов</td>\n",
       "      <td>https://www.chipdip.ru/product0/8005160492</td>\n",
       "    </tr>\n",
       "  </tbody>\n",
       "</table>\n",
       "<p>6247 rows × 2 columns</p>\n",
       "</div>"
      ],
      "text/plain": [
       "                        section_name  \\\n",
       "0     Резисторы маломощные (до 2 Вт)   \n",
       "1     Резисторы маломощные (до 2 Вт)   \n",
       "2     Резисторы маломощные (до 2 Вт)   \n",
       "3     Резисторы маломощные (до 2 Вт)   \n",
       "4     Резисторы маломощные (до 2 Вт)   \n",
       "...                              ...   \n",
       "6242               Наборы резисторов   \n",
       "6243               Наборы резисторов   \n",
       "6244               Наборы резисторов   \n",
       "6245               Наборы резисторов   \n",
       "6246               Наборы резисторов   \n",
       "\n",
       "                                            link  \n",
       "0          https://www.chipdip.ru/product0/11677  \n",
       "1          https://www.chipdip.ru/product0/28651  \n",
       "2           https://www.chipdip.ru/product0/6699  \n",
       "3          https://www.chipdip.ru/product0/35686  \n",
       "4          https://www.chipdip.ru/product0/20427  \n",
       "...                                          ...  \n",
       "6242  https://www.chipdip.ru/product0/8006877722  \n",
       "6243  https://www.chipdip.ru/product0/8006881104  \n",
       "6244  https://www.chipdip.ru/product0/8005160449  \n",
       "6245  https://www.chipdip.ru/product0/8006909964  \n",
       "6246  https://www.chipdip.ru/product0/8005160492  \n",
       "\n",
       "[6247 rows x 2 columns]"
      ]
     },
     "metadata": {},
     "output_type": "display_data"
    }
   ],
   "source": [
    "import pandas as pd\n",
    "path = 'resistor_links.csv'\n",
    "df = pd.read_csv(path)\n",
    "display(df)"
   ]
  },
  {
   "cell_type": "code",
   "execution_count": 12,
   "metadata": {},
   "outputs": [
    {
     "data": {
      "text/plain": [
       "section_name\n",
       "Наборы резисторов                                   247\n",
       "Резисторные сборки                                 1000\n",
       "Резисторы маломощные (до 2 Вт)                     1000\n",
       "Резисторы мощные (более 2 Вт)                      1000\n",
       "Резисторы переменные                               1000\n",
       "Резисторы подстроечные                             1000\n",
       "Чип резисторы (SMD, для поверхностного монтажа)    1000\n",
       "Name: section_name, dtype: int64"
      ]
     },
     "metadata": {},
     "output_type": "display_data"
    }
   ],
   "source": [
    "df2 = df.groupby(['section_name'])['section_name'].count()\n",
    "display(df2)"
   ]
  },
  {
   "cell_type": "code",
   "execution_count": 43,
   "metadata": {},
   "outputs": [
    {
     "data": {
      "text/plain": [
       "['https://www.chipdip.ru/product/k53-19-3.3mkf-h-20v-20',\n",
       " 'https://www.chipdip.ru/product0/8025663496',\n",
       " 'https://www.chipdip.ru/product0/8021838883',\n",
       " 'https://www.chipdip.ru/product0/8021838884',\n",
       " 'https://www.chipdip.ru/product0/8021838881',\n",
       " 'https://www.chipdip.ru/product0/8025666624',\n",
       " 'https://www.chipdip.ru/product0/8021838879',\n",
       " 'https://www.chipdip.ru/product0/8021838882',\n",
       " 'https://www.chipdip.ru/product0/8025663494',\n",
       " 'https://www.chipdip.ru/product0/8021838880',\n",
       " 'https://www.chipdip.ru/product0/8005649538',\n",
       " 'https://www.chipdip.ru/product/noja475m010rwj',\n",
       " 'https://www.chipdip.ru/product0/8009246798',\n",
       " 'https://www.chipdip.ru/product0/8015828446',\n",
       " 'https://www.chipdip.ru/product0/8006475558',\n",
       " 'https://www.chipdip.ru/product0/8009269676',\n",
       " 'https://www.chipdip.ru/product0/8006280876',\n",
       " 'https://www.chipdip.ru/product/nosb226m006r0600',\n",
       " 'https://www.chipdip.ru/product0/8009269678']"
      ]
     },
     "execution_count": 43,
     "metadata": {},
     "output_type": "execute_result"
    }
   ],
   "source": [
    "# example\n",
    "links = extract_links(get_pages(capasitors_sections_links['Конденсаторы ниобиевые']))\n",
    "links"
   ]
  },
  {
   "cell_type": "code",
   "execution_count": null,
   "metadata": {},
   "outputs": [],
   "source": [
    "d = {}\n",
    "\n",
    "for group_name, group_url in tqdm(capasitors_sections_links.items()):\n",
    "    links = extract_links(get_pages(group_url))\n",
    "\n",
    "    d[group_name] = links\n"
   ]
  },
  {
   "cell_type": "code",
   "execution_count": 25,
   "metadata": {},
   "outputs": [
    {
     "name": "stdout",
     "output_type": "stream",
     "text": [
      "TZC3P200A110**, 5-20пФ, SMD конденсатор подстроечный\n",
      "Компактные подстроечные конденсаторы для поверхностного монтажа Разработаны для автоматического монтажа Устойчивы к высоким температурам Рабочее напряжение 100В Максимальное напряжение 220В Температурный диапазон от -25 до + 85 °C\n",
      "Тип tzc3  ​\n",
      "Рабочее напряжение,В 100\n",
      "Емкость мин.,пкФ 5  ​\n",
      "Емкость макс.,пФ 20  ​\n",
      "Температурный коэффициент емкости(ТКЕ) n1200\n",
      "Рабочая температура,С -25…85\n",
      "Добротность Qмин. 300\n",
      "Размер корпуса ,мм 3.2x4.5\n",
      "Вес, г 0.05\n",
      "\n"
     ]
    }
   ],
   "source": [
    "# достать из страницы текст с описанием и характеристиками\n",
    "url = 'https://www.chipdip.ru/product/tzc3p200a110'\n",
    "\n",
    "response = requests.get(url , headers=headers)\n",
    "\n",
    "soup = BeautifulSoup(response.content, \"html.parser\")\n",
    "\n",
    "header_class = 'main-header'\n",
    "describtion_class = 'showhide item_desc'\n",
    "characteristics_class = 'product__params-w'\n",
    "\n",
    "header = ''\n",
    "describtion = ''\n",
    "characteristics = ''\n",
    "\n",
    "job_elements = soup.find_all(\"div\", class_=header_class)\n",
    "for job_element in job_elements:\n",
    "    header = job_element.text.strip()\n",
    "\n",
    "job_elements = soup.find_all(\"div\", class_=describtion_class)\n",
    "for job_element in job_elements:\n",
    "    describtion = job_element.text.strip()\n",
    "\n",
    "\n",
    "job_elements = soup.find_all(\"div\", class_=characteristics_class)\n",
    "for job_element in job_elements:\n",
    "    strs = job_element.find_all(\"tr\")\n",
    "\n",
    "    for s in strs:\n",
    "        characteristics += s.text.strip().replace('\\n', ' ') + '\\n'\n",
    "\n",
    "print(header)\n",
    "print(describtion)\n",
    "print(characteristics)"
   ]
  },
  {
   "cell_type": "code",
   "execution_count": null,
   "metadata": {},
   "outputs": [],
   "source": [
    "print(describtion)\n",
    "print(characteristics)"
   ]
  }
 ],
 "metadata": {
  "kernelspec": {
   "display_name": ".venv",
   "language": "python",
   "name": "python3"
  },
  "language_info": {
   "codemirror_mode": {
    "name": "ipython",
    "version": 3
   },
   "file_extension": ".py",
   "mimetype": "text/x-python",
   "name": "python",
   "nbconvert_exporter": "python",
   "pygments_lexer": "ipython3",
   "version": "3.10.12"
  }
 },
 "nbformat": 4,
 "nbformat_minor": 2
}
